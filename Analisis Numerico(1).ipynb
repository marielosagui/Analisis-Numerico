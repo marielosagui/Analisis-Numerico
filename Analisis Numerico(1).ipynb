{
 "cells": [
  {
   "cell_type": "markdown",
   "id": "c40da472",
   "metadata": {},
   "source": [
    "# Metodo Newton para Sistemas No lineales"
   ]
  },
  {
   "cell_type": "markdown",
   "id": "ef0582a3",
   "metadata": {},
   "source": [
    "El algoritmo que utilizamos en este caso fue el método de Newton adaptado para trabajar con sistemas no lineales de ${n}$ funciones y ${n}$ variables que mapean $ \\mathbb{R}^3 $ a  $\\mathbb{R}^3$  de  forma iterativa.  Como  ya  se  menciono  en  esta  forma,  el  metodo  de Newton  debe  trabajar  para  resolver  varias  ecuaciones con  varias  incognitas  es decir, un sistema de ecuaciones."
   ]
  },
  {
   "cell_type": "markdown",
   "id": "e7ace232",
   "metadata": {},
   "source": [
    "Dado un sistema de dos ecuaciones, se desea hallar el punto (x, y) que hace que dichas ecuaciones sean iguales a cero. \n",
    "Dicho de otra forma, este punto ser a raíz de ambas ecuaciones.\n",
    "\n",
    "\\begin{equation}\n",
    "\\[\n",
    "\\left \\{ \\begin{matrix} f_1(x,y)=0 \n",
    "\\\\ f_2(x,y)=0 \\end{matrix}\\right.\n",
    "\\]\n",
    "\\end{equation}\n",
    "\n",
    "Aplicando a este caso el ḿetodo de Newton, se puede generar un sistema matricial de la siguiente forma:\n",
    " \n",
    " \\begin{equation}\n",
    " \\[ \n",
    " \\left [ \\frac{ x_1 } {y_1} \\right] = \\left[  \\frac{ x_0 } {y_0} \\right]-{J^{-1}}\\arrowvert_{x_0,y_0} ;   \\left[  \\frac{ f_1(x_0,y_0) } {f_2(x_0,y_0)} \\right]\n",
    "\\]\n",
    "\\end{equation}\n",
    "\n",
    "Para comenzar, hay que definir los valores para los puntos iniciales y calcular $ {J^{-1}} $, que correspondea la matriz inversa del jacobiano del sistema de ecuaciones que se calcula de la siguiente forma:\n",
    "\n",
    "\\begin{equation}\n",
    "\\[\n",
    " {J^{-1}}=\n",
    " \\begin{bmatrix}{\\frac{\\partial f_1}{\\partial x}}&{\\frac{\\partial f_1}{\\partial y}}\\\\{\\frac{\\partial f_2}{\\partial x}}&{\\frac{\\partial f_2}{\\partial y}}\\end{bmatrix}\n",
    " \\]\n",
    "\\end{equation}\n",
    "\n",
    "\n",
    "A partir de entonces, se calcula el valor siguiente de la aproximaciòn y se repite iterativamente este procedimiento. En general, para un vector X de raìces a encontrar y F(·) un vector de funciones que corresponden al sistema de ecuaciones F(X) = 0:\n",
    "\\begin{equation}\n",
    "    G(x)=X-{J(x)^{-1}}.F(X)\n",
    "\\end{equation}\n",
    "\n",
    "y el procedimiento de la iteracion funcional pasa de seleccionar $x^0$  a generar, para $K\\ge1$\n",
    "\\begin{equation}\n",
    "    x^k = G(x^{k-1}) = x^{k-1} - {J(x^{k-1})^{-1}} F(x^{k-1})\n",
    "\\end{equation}\n"
   ]
  },
  {
   "cell_type": "markdown",
   "id": "6a7b4bb5",
   "metadata": {},
   "source": [
    "## Implementación"
   ]
  },
  {
   "cell_type": "markdown",
   "id": "2ad76344",
   "metadata": {},
   "source": [
    "Para ejemplificar el uso del metodo de Newton para un sistema no lineal, se considero un sistema de ecuaciones de 2 incognitas en $\\mathbb{R}^3$ ,  el cual tiene una solucion aproximada $(u,v)(1,1)$ y una punto inicial de $(u_0,v_0)=(2,2)$.\n",
    "\n",
    "\\begin{array}{c}f_1(u,v)= 6u^3 + uv - 3v^3 - 4 = 0\\\\ f_2(u,v)= u^2 - 18uv^2 + 16v^3 + 1 = 0  \\end{array}\n",
    " \n",
    " \n",
    "Calculo de matriz Jacobiana $J(u,v)$\n",
    "\\begin{equation}\n",
    "\\[ \\renewcommand\\arraystretch{1.6}\n",
    "  DF(u,v) = \\begin{bmatrix} \n",
    "   {18u^2+v} & {u-9v^2} \\\\ {2u-18v^2} & {-36uv+48v^2} \\\\ \\end{bmatrix}\n",
    "  \\]\n",
    "\\end{equation}"
   ]
  },
  {
   "cell_type": "markdown",
   "id": "4ffe1561",
   "metadata": {},
   "source": [
    "A continuacion desarrollo del programa para resolver el sistema:"
   ]
  },
  {
   "cell_type": "code",
   "execution_count": 4,
   "id": "26747771",
   "metadata": {},
   "outputs": [],
   "source": [
    "import numpy as np\n",
    "from sympy import*\n",
    "from sympy.interactive import printing;\n",
    "printing.init_printing(use_latex=true);\n",
    "from IPython.display import display, Latex "
   ]
  },
  {
   "cell_type": "code",
   "execution_count": 5,
   "id": "2928d3fe",
   "metadata": {},
   "outputs": [],
   "source": [
    "def nombre():\n",
    "    contador=1;"
   ]
  },
  {
   "cell_type": "code",
   "execution_count": 19,
   "id": "67904b97",
   "metadata": {},
   "outputs": [],
   "source": [
    "def noLineal_newton(F, J, x, eps):\n",
    "    #Resuelve un sistema no linear Rn-Rn F(x)=0, ambos F y J deben ser funciones de x\n",
    "    #x es el valor de las coordenadas iniciales, y sigue hasta que ||F|| < eps que es una tolerancia\n",
    "    \n",
    "    F_value = F(x)\n",
    "    #display(Latex('$$ F(x) = '+ latex(simplify(F_value)) + '$$'))\n",
    "    F_norm = np.linalg.norm(F_value, ord=2) \n",
    "    ci= 0 ##nuestro contador para las iteraciones\n",
    "    while abs(F_norm) > eps and   ci < 100:\n",
    "        delta = np.linalg.solve(J(x), -F_value)\n",
    "        #display(Latex('$$ F(x) = '+ latex(simplify(F_value)) + '$$')) #funcion evaluada en puntos\n",
    "        #display(Latex('$$ J(x) = '+ latex(simplify(J(x))) + '$$')) # matrix jacobiano evaluado\n",
    "        #display(Latex('$$ SEL = '+ latex(simplify(delta)) + '$$'))  #SEL\n",
    "        x = x + delta\n",
    "        display(Latex('$$ Iteracion = '+ latex(simplify(ci)) + '$$'))\n",
    "        display(Latex('$$ Solucion del Sistema = '+ latex(simplify(x)) + '$$'))\n",
    "        F_value = F(x) #test\n",
    "        F_norm = np.linalg.norm(F_value, ord=2)\n",
    "        ci += 1\n",
    "\n",
    "    # Hasta que una solucion es encontrada con las iteraciones \n",
    "    if abs(F_norm) > eps:\n",
    "        ci = -1\n",
    "    return x, ci"
   ]
  },
  {
   "cell_type": "code",
   "execution_count": 20,
   "id": "d28212cf",
   "metadata": {},
   "outputs": [],
   "source": [
    "def solver_system():\n",
    "    #from numpy import cos, sin, pi, exp #en caso se utilicen funciones trig\n",
    "\n",
    "    # aqui se definen la ecuaciones \n",
    "    def F(x):\n",
    "        eq_1=6*x[0]**3 + (x[0]*x[1]) -3*(x[1]**3)-4\n",
    "        eq_2=x[0]**2 -18*(x[0]*(x[1]**2)) + 16*(x[1]**3) + 1\n",
    "        \n",
    "        return np.array(\n",
    "            [eq_1,eq_2])#modificar a la cantidad de ecuaciones\n",
    "\n",
    "    #funcion del jacobiano, colocar las derivadas parciales\n",
    "    def J(x):\n",
    "        return np.array([[18*(x[0]**2)+x[1],  x[0]-9*(x[1]**2)],\n",
    "                         [2*x[0]-18*(x[1]**2), -36*(x[0]*x[1]) + 48*(x[1]**2)]])\n",
    "    \n",
    "#aqui se define la solucion aproximada \n",
    "    expected = np.array([1,1])\n",
    "    \n",
    "    #esta es la tolerancia si quiere ser comprobada con algun esperado \n",
    "    tol = 1e-9\n",
    "    \n",
    "    #y una aproximacion inicial\n",
    "    x, n =  noLineal_newton(F, J, x=np.array([2,2]), eps=1e-9)\n",
    "    error_norm = np.linalg.norm(expected - x, ord=2)\n",
    "    if error_norm < tol:\n",
    "        print('la norma del error es mas pequeña que la tolerancia')\n",
    "        print('Numero maximo de iteraciones exedido')\n",
    "        print ('norm of error =%g' % error_norm)\n",
    "        print(' la tolerancia es', tol)\n",
    " "
   ]
  },
  {
   "cell_type": "code",
   "execution_count": 21,
   "id": "78b4f4b7",
   "metadata": {},
   "outputs": [
    {
     "data": {
      "text/latex": [
       "$$ Iteracion = 0$$"
      ],
      "text/plain": [
       "<IPython.core.display.Latex object>"
      ]
     },
     "metadata": {},
     "output_type": "display_data"
    },
    {
     "data": {
      "text/latex": [
       "$$ Solucion del Sistema = \\left[\\begin{matrix}1.37258064516129 & 1.34032258064516\\end{matrix}\\right]$$"
      ],
      "text/plain": [
       "<IPython.core.display.Latex object>"
      ]
     },
     "metadata": {},
     "output_type": "display_data"
    },
    {
     "data": {
      "text/latex": [
       "$$ Iteracion = 1$$"
      ],
      "text/plain": [
       "<IPython.core.display.Latex object>"
      ]
     },
     "metadata": {},
     "output_type": "display_data"
    },
    {
     "data": {
      "text/latex": [
       "$$ Solucion del Sistema = \\left[\\begin{matrix}1.07838681200443 & 1.05380123264984\\end{matrix}\\right]$$"
      ],
      "text/plain": [
       "<IPython.core.display.Latex object>"
      ]
     },
     "metadata": {},
     "output_type": "display_data"
    },
    {
     "data": {
      "text/latex": [
       "$$ Iteracion = 2$$"
      ],
      "text/plain": [
       "<IPython.core.display.Latex object>"
      ]
     },
     "metadata": {},
     "output_type": "display_data"
    },
    {
     "data": {
      "text/latex": [
       "$$ Solucion del Sistema = \\left[\\begin{matrix}1.0053496889652 & 1.00269261871539\\end{matrix}\\right]$$"
      ],
      "text/plain": [
       "<IPython.core.display.Latex object>"
      ]
     },
     "metadata": {},
     "output_type": "display_data"
    },
    {
     "data": {
      "text/latex": [
       "$$ Iteracion = 3$$"
      ],
      "text/plain": [
       "<IPython.core.display.Latex object>"
      ]
     },
     "metadata": {},
     "output_type": "display_data"
    },
    {
     "data": {
      "text/latex": [
       "$$ Solucion del Sistema = \\left[\\begin{matrix}1.00003367866506 & 1.0000224377201\\end{matrix}\\right]$$"
      ],
      "text/plain": [
       "<IPython.core.display.Latex object>"
      ]
     },
     "metadata": {},
     "output_type": "display_data"
    },
    {
     "data": {
      "text/latex": [
       "$$ Iteracion = 4$$"
      ],
      "text/plain": [
       "<IPython.core.display.Latex object>"
      ]
     },
     "metadata": {},
     "output_type": "display_data"
    },
    {
     "data": {
      "text/latex": [
       "$$ Solucion del Sistema = \\left[\\begin{matrix}1.00000000111957 & 1.00000000057894\\end{matrix}\\right]$$"
      ],
      "text/plain": [
       "<IPython.core.display.Latex object>"
      ]
     },
     "metadata": {},
     "output_type": "display_data"
    },
    {
     "data": {
      "text/latex": [
       "$$ Iteracion = 5$$"
      ],
      "text/plain": [
       "<IPython.core.display.Latex object>"
      ]
     },
     "metadata": {},
     "output_type": "display_data"
    },
    {
     "data": {
      "text/latex": [
       "$$ Solucion del Sistema = \\left[\\begin{matrix}1.0 & 1.0\\end{matrix}\\right]$$"
      ],
      "text/plain": [
       "<IPython.core.display.Latex object>"
      ]
     },
     "metadata": {},
     "output_type": "display_data"
    },
    {
     "name": "stdout",
     "output_type": "stream",
     "text": [
      "la norma del error es mas pequeña que la tolerancia\n",
      "Numero maximo de iteraciones exedido\n",
      "norm of error =4.96507e-16\n",
      " la tolerancia es 1e-09\n"
     ]
    }
   ],
   "source": [
    "solver_system()"
   ]
  },
  {
   "cell_type": "markdown",
   "id": "e58007c7",
   "metadata": {},
   "source": [
    "Para este caso en el libro de Burden se obtenian 8 iteraciones y en nuestro caso se obtienen 6 iteraciones."
   ]
  },
  {
   "cell_type": "markdown",
   "id": "4258fb58",
   "metadata": {},
   "source": [
    "### Comentarios de Metodo Newton"
   ]
  },
  {
   "cell_type": "markdown",
   "id": "36ea1960",
   "metadata": {},
   "source": [
    "El método de Newton-Raphson (un método basado en la serie de Taylor) es un método el cual se aproxima a la raíz por medio de rectas tangentes. \n",
    "\n",
    "A partir de un valor inicial $ x_0 $ traza recta tangente a la curva y busca el valor de dicha tangente que corte al eje de las abscisas. Una vez que encontró el valor (que pasa a ser nuestro valor mas próximo a la raíz $x_1$) vuelve a trazar la recta tangente a la curva y así tantas veces como sea necesario hasta representar una aproximación mejorada de la raíz.\n",
    "\n",
    "- Es eficiente en ecuaciones no lineales.\n",
    "-Este ḿetodo trabaja con un proceso iterativo (ḿas ŕapido) a diferencia de otros metodos que trabaja sobre intervalos.\n",
    "- Como desventaja el calcular la derivada para poder obtener la matriz jacobiana y en ocasiones estas pueden ser largas.\n"
   ]
  },
  {
   "cell_type": "markdown",
   "id": "9b674e65",
   "metadata": {},
   "source": [
    "## Referencias"
   ]
  },
  {
   "cell_type": "markdown",
   "id": "c7329eea",
   "metadata": {},
   "source": [
    "[1]Burden, Richard Faires, J. Douglas (2010). Newton’s method Numerical\n",
    "Analysis,novena edicion, Cengage Learni.\n",
    "\n",
    "[2] Shoichiro Nakamura,Metodos Numericos Aplicados con Software,Primera Edicion, Pearson Education (1992).\n",
    "\n",
    "[3] Timothy Sauer, Analisis Numerico, Segunda Edicion, Pearson Education (2013)"
   ]
  },
  {
   "cell_type": "code",
   "execution_count": null,
   "id": "90b7f62a",
   "metadata": {},
   "outputs": [],
   "source": []
  }
 ],
 "metadata": {
  "kernelspec": {
   "display_name": "Python 3",
   "language": "python",
   "name": "python3"
  },
  "language_info": {
   "codemirror_mode": {
    "name": "ipython",
    "version": 3
   },
   "file_extension": ".py",
   "mimetype": "text/x-python",
   "name": "python",
   "nbconvert_exporter": "python",
   "pygments_lexer": "ipython3",
   "version": "3.9.5"
  }
 },
 "nbformat": 4,
 "nbformat_minor": 5
}
